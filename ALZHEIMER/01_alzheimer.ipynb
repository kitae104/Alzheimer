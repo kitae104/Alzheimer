{
 "cells": [
  {
   "cell_type": "markdown",
   "metadata": {},
   "source": [
    "# 치매 환자의 뇌인지 일반인의 뇌인지 예측하기"
   ]
  },
  {
   "cell_type": "code",
   "execution_count": 2,
   "metadata": {},
   "outputs": [],
   "source": [
    "from keras.models import Sequential\n",
    "from keras.layers import Dense, Activation, Dropout, Flatten, Conv2D, MaxPooling2D\n",
    "from keras.preprocessing.image import ImageDataGenerator\n",
    "from keras.callbacks import EarlyStopping\n",
    "from keras import optimizers\n",
    "\n",
    "import numpy as np\n",
    "import matplotlib.pyplot as plt"
   ]
  },
  {
   "cell_type": "code",
   "execution_count": 4,
   "metadata": {},
   "outputs": [
    {
     "name": "stdout",
     "output_type": "stream",
     "text": [
      "Found 160 images belonging to 2 classes.\n"
     ]
    }
   ],
   "source": [
    "# 학습셋의 변형을 설정하는 부분입니다.- 이미지 생성 옵션\n",
    "train_datagen = ImageDataGenerator(rescale=1./255,          # 주어진 이미지의 크기를 설정합니다.\n",
    "                                  horizontal_flip=True,     # 수평 대칭 이미지를 50% 확률로 만들어 추가합니다.\n",
    "                                  width_shift_range=0.1,    # 전체 크기의 15% 범위에서 좌우로 이동합니다.\n",
    "                                  height_shift_range=0.1,   # 마찬가지로 위, 아래로 이동합니다.\n",
    "                                  #rotation_range=5,        # 정해진 각도만큼 회전시킵니다.\n",
    "                                  #shear_range=0.7,         # 좌표 하나를 고정시키고 나머지를 이동시킵니다.\n",
    "                                  #zoom_range=1.2,          # 확대 또는 축소시킵니다.\n",
    "                                  #vertical_flip=True,      # 수직 대칭 이미지를 만듭니다.\n",
    "                                  #fill_mode='nearest'      # 빈 공간을 채우는 방법입니다. nearest 옵션은 가장 비슷한 색으로 채우게 됩니다.\n",
    "                                  )\n",
    "\n",
    "# 실제 데이터가 있는 곳을 알려주고 이미지를 불러옴\n",
    "train_generator = train_datagen.flow_from_directory(\n",
    "       './image_data/train',   # 학습셋이 있는 폴더의 위치입니다.\n",
    "       target_size=(150, 150),\n",
    "       batch_size=5,\n",
    "       class_mode='binary')"
   ]
  },
  {
   "cell_type": "code",
   "execution_count": 5,
   "metadata": {},
   "outputs": [
    {
     "name": "stdout",
     "output_type": "stream",
     "text": [
      "Found 120 images belonging to 2 classes.\n"
     ]
    }
   ],
   "source": [
    "# 테스트셋은 이미지 부풀리기 과정을 진행하지 않습니다.\n",
    "test_datagen = ImageDataGenerator(rescale=1./255) # 정규화만 수행\n",
    "\n",
    "test_generator = test_datagen.flow_from_directory(\n",
    "       './image_data/test',      # 테스트셋이 있는 폴더의 위치입니다.\n",
    "       target_size=(150, 150),  # 이미지 크기\n",
    "       batch_size=5,\n",
    "       class_mode='binary')     # 치매 / 정상 이진 분류 이기 때문에 바이너리 모드로 실행"
   ]
  },
  {
   "cell_type": "code",
   "execution_count": 6,
   "metadata": {},
   "outputs": [
    {
     "name": "stdout",
     "output_type": "stream",
     "text": [
      "Model: \"sequential\"\n",
      "_________________________________________________________________\n",
      " Layer (type)                Output Shape              Param #   \n",
      "=================================================================\n",
      " conv2d (Conv2D)             (None, 148, 148, 32)      896       \n",
      "                                                                 \n",
      " activation (Activation)     (None, 148, 148, 32)      0         \n",
      "                                                                 \n",
      " max_pooling2d (MaxPooling2  (None, 74, 74, 32)        0         \n",
      " D)                                                              \n",
      "                                                                 \n",
      " conv2d_1 (Conv2D)           (None, 72, 72, 32)        9248      \n",
      "                                                                 \n",
      " activation_1 (Activation)   (None, 72, 72, 32)        0         \n",
      "                                                                 \n",
      " max_pooling2d_1 (MaxPoolin  (None, 36, 36, 32)        0         \n",
      " g2D)                                                            \n",
      "                                                                 \n",
      " conv2d_2 (Conv2D)           (None, 34, 34, 64)        18496     \n",
      "                                                                 \n",
      " activation_2 (Activation)   (None, 34, 34, 64)        0         \n",
      "                                                                 \n",
      " max_pooling2d_2 (MaxPoolin  (None, 17, 17, 64)        0         \n",
      " g2D)                                                            \n",
      "                                                                 \n",
      " flatten (Flatten)           (None, 18496)             0         \n",
      "                                                                 \n",
      " dense (Dense)               (None, 64)                1183808   \n",
      "                                                                 \n",
      " activation_3 (Activation)   (None, 64)                0         \n",
      "                                                                 \n",
      " dropout (Dropout)           (None, 64)                0         \n",
      "                                                                 \n",
      " dense_1 (Dense)             (None, 1)                 65        \n",
      "                                                                 \n",
      " activation_4 (Activation)   (None, 1)                 0         \n",
      "                                                                 \n",
      "=================================================================\n",
      "Total params: 1212513 (4.63 MB)\n",
      "Trainable params: 1212513 (4.63 MB)\n",
      "Non-trainable params: 0 (0.00 Byte)\n",
      "_________________________________________________________________\n"
     ]
    }
   ],
   "source": [
    "# CNN 모델을 만들어 적용\n",
    "model = Sequential()\n",
    "model.add(Conv2D(32, (3, 3), input_shape=(150,150,3)))\n",
    "model.add(Activation('relu'))\n",
    "model.add(MaxPooling2D(pool_size=(2, 2)))\n",
    "\n",
    "model.add(Conv2D(32, (3, 3)))\n",
    "model.add(Activation('relu'))\n",
    "model.add(MaxPooling2D(pool_size=(2, 2)))\n",
    "\n",
    "model.add(Conv2D(64, (3, 3)))\n",
    "model.add(Activation('relu'))\n",
    "model.add(MaxPooling2D(pool_size=(2, 2)))\n",
    "\n",
    "model.add(Flatten())\n",
    "model.add(Dense(64))\n",
    "model.add(Activation('relu'))\n",
    "model.add(Dropout(0.5))\n",
    "model.add(Dense(1))\n",
    "model.add(Activation('sigmoid'))\n",
    "model.summary()"
   ]
  },
  {
   "cell_type": "code",
   "execution_count": 7,
   "metadata": {},
   "outputs": [
    {
     "name": "stdout",
     "output_type": "stream",
     "text": [
      "Epoch 1/100\n",
      "32/32 [==============================] - 2s 46ms/step - loss: 0.6971 - accuracy: 0.4938 - val_loss: 0.6843 - val_accuracy: 0.5400\n",
      "Epoch 2/100\n",
      "32/32 [==============================] - 1s 41ms/step - loss: 0.6940 - accuracy: 0.5250 - val_loss: 0.6923 - val_accuracy: 0.4800\n",
      "Epoch 3/100\n",
      "32/32 [==============================] - 1s 42ms/step - loss: 0.6835 - accuracy: 0.5437 - val_loss: 0.6944 - val_accuracy: 0.4400\n",
      "Epoch 4/100\n",
      "32/32 [==============================] - 1s 43ms/step - loss: 0.6787 - accuracy: 0.5562 - val_loss: 0.6670 - val_accuracy: 0.5000\n",
      "Epoch 5/100\n",
      "32/32 [==============================] - 1s 42ms/step - loss: 0.6564 - accuracy: 0.6500 - val_loss: 0.6463 - val_accuracy: 0.7000\n",
      "Epoch 6/100\n",
      "32/32 [==============================] - 1s 40ms/step - loss: 0.6198 - accuracy: 0.6812 - val_loss: 0.6193 - val_accuracy: 0.5800\n",
      "Epoch 7/100\n",
      "32/32 [==============================] - 1s 43ms/step - loss: 0.6243 - accuracy: 0.6812 - val_loss: 0.5907 - val_accuracy: 0.6200\n",
      "Epoch 8/100\n",
      "32/32 [==============================] - 1s 41ms/step - loss: 0.5733 - accuracy: 0.7625 - val_loss: 0.5887 - val_accuracy: 0.6400\n",
      "Epoch 9/100\n",
      "32/32 [==============================] - 1s 40ms/step - loss: 0.5399 - accuracy: 0.7688 - val_loss: 0.4120 - val_accuracy: 0.9000\n",
      "Epoch 10/100\n",
      "32/32 [==============================] - 1s 43ms/step - loss: 0.4473 - accuracy: 0.8125 - val_loss: 0.3773 - val_accuracy: 0.8600\n",
      "Epoch 11/100\n",
      "32/32 [==============================] - 1s 41ms/step - loss: 0.5106 - accuracy: 0.7812 - val_loss: 0.3751 - val_accuracy: 0.9200\n",
      "Epoch 12/100\n",
      "32/32 [==============================] - 1s 41ms/step - loss: 0.3575 - accuracy: 0.9062 - val_loss: 0.2847 - val_accuracy: 0.9200\n",
      "Epoch 13/100\n",
      "32/32 [==============================] - 1s 41ms/step - loss: 0.2933 - accuracy: 0.9000 - val_loss: 0.2383 - val_accuracy: 0.9400\n",
      "Epoch 14/100\n",
      "32/32 [==============================] - 1s 40ms/step - loss: 0.2322 - accuracy: 0.9187 - val_loss: 0.1556 - val_accuracy: 0.9600\n",
      "Epoch 15/100\n",
      "32/32 [==============================] - 1s 41ms/step - loss: 0.2516 - accuracy: 0.9250 - val_loss: 0.1767 - val_accuracy: 0.9200\n",
      "Epoch 16/100\n",
      "32/32 [==============================] - 1s 41ms/step - loss: 0.2462 - accuracy: 0.9312 - val_loss: 0.1201 - val_accuracy: 0.9600\n",
      "Epoch 17/100\n",
      "32/32 [==============================] - 1s 40ms/step - loss: 0.2042 - accuracy: 0.9250 - val_loss: 0.1879 - val_accuracy: 0.9000\n",
      "Epoch 18/100\n",
      "32/32 [==============================] - 1s 42ms/step - loss: 0.1911 - accuracy: 0.9375 - val_loss: 0.1340 - val_accuracy: 0.9600\n",
      "Epoch 19/100\n",
      "32/32 [==============================] - 1s 41ms/step - loss: 0.1258 - accuracy: 0.9688 - val_loss: 0.1084 - val_accuracy: 0.9800\n",
      "Epoch 20/100\n",
      "32/32 [==============================] - 1s 41ms/step - loss: 0.2074 - accuracy: 0.9125 - val_loss: 0.1232 - val_accuracy: 0.9600\n",
      "Epoch 21/100\n",
      "32/32 [==============================] - 1s 43ms/step - loss: 0.1970 - accuracy: 0.9375 - val_loss: 0.0496 - val_accuracy: 1.0000\n",
      "Epoch 22/100\n",
      "32/32 [==============================] - 1s 41ms/step - loss: 0.0997 - accuracy: 0.9812 - val_loss: 0.0902 - val_accuracy: 0.9800\n",
      "Epoch 23/100\n",
      "32/32 [==============================] - 1s 41ms/step - loss: 0.0947 - accuracy: 0.9812 - val_loss: 0.0705 - val_accuracy: 0.9800\n",
      "Epoch 24/100\n",
      "32/32 [==============================] - 1s 42ms/step - loss: 0.1379 - accuracy: 0.9500 - val_loss: 0.0643 - val_accuracy: 0.9800\n",
      "Epoch 25/100\n",
      "32/32 [==============================] - 1s 41ms/step - loss: 0.1179 - accuracy: 0.9625 - val_loss: 0.1071 - val_accuracy: 0.9600\n",
      "Epoch 26/100\n",
      "32/32 [==============================] - 1s 40ms/step - loss: 0.1408 - accuracy: 0.9625 - val_loss: 0.1063 - val_accuracy: 0.9600\n"
     ]
    }
   ],
   "source": [
    "# 모델 컴파일\n",
    "model.compile(loss='binary_crossentropy', optimizer=optimizers.Adam(learning_rate=0.0002), metrics=['accuracy'])\n",
    "\n",
    "# 학습의 조기 중단을 설정합니다.\n",
    "early_stopping_callback = EarlyStopping(monitor='val_loss', patience=5)\n",
    "\n",
    "# 모델을 실행합니다\n",
    "history = model.fit(\n",
    "       train_generator,                       # 앞에서 만든 train_generator를 학습 모델로 사용\n",
    "       epochs=100,                            # 이미지 생성기에서 몇 개의 샘플을 뽑을지를 결정\n",
    "       validation_data=test_generator,        # 검증셋\n",
    "       validation_steps=10,\n",
    "       callbacks=[early_stopping_callback])"
   ]
  },
  {
   "cell_type": "code",
   "execution_count": 8,
   "metadata": {},
   "outputs": [
    {
     "data": {
      "image/png": "[encoded data removed]",
      "text/plain": [
       "<Figure size 640x480 with 1 Axes>"
      ]
     },
     "metadata": {},
     "output_type": "display_data"
    }
   ],
   "source": [
    "# 검증셋과 학습셋의 오차를 저장합니다.\n",
    "y_vloss = history.history['val_loss']\n",
    "y_loss = history.history['loss']\n",
    "\n",
    "# 그래프로 표현해 봅니다.\n",
    "x_len = np.arange(len(y_loss))\n",
    "plt.plot(x_len, y_vloss, marker='.', c=\"red\", label='Testset_loss')\n",
    "plt.plot(x_len, y_loss, marker='.', c=\"blue\", label='Trainset_loss')\n",
    "\n",
    "# 그래프에 그리드를 주고 레이블을 표시하겠습니다.\n",
    "plt.legend(loc='upper right')\n",
    "plt.grid()\n",
    "plt.xlabel('epoch')\n",
    "plt.ylabel('loss')\n",
    "plt.show()"
   ]
  }
 ],
 "metadata": {
  "kernelspec": {
   "display_name": "Python 3",
   "language": "python",
   "name": "python3"
  },
  "language_info": {
   "codemirror_mode": {
    "name": "ipython",
    "version": 3
   },
   "file_extension": ".py",
   "mimetype": "text/x-python",
   "name": "python",
   "nbconvert_exporter": "python",
   "pygments_lexer": "ipython3",
   "version": "3.11.0"
  },
  "orig_nbformat": 4
 },
 "nbformat": 4,
 "nbformat_minor": 2
}
